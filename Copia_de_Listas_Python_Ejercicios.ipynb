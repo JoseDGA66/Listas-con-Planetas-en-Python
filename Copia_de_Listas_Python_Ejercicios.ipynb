{
  "cells": [
    {
      "cell_type": "markdown",
      "metadata": {
        "id": "H704-Q9G-o1c"
      },
      "source": [
        "# Ejercicio1: Crear y usar listas de Python\n"
      ]
    },
    {
      "cell_type": "markdown",
      "metadata": {
        "id": "S8nmctH3-o1e"
      },
      "source": [
        "### Ejercicio: Usar listas para almacenar nombres de planetas\n",
        "Las listas permiten almacenar varios valores en una sola variable. Comenzarás un proyecto sobre información planetaria creando una lista de planetas.\n",
        "\n",
        "> **TIP**\n",
        "> Dedica unos minutos para tratar de encontrar una solución. Luego desplázate hacia abajo hasta la parte inferior para ver si has logrado compilar el programa de acuerdo con las especificaciones"
      ]
    },
    {
      "cell_type": "markdown",
      "metadata": {
        "id": "0Ql7vAgU-o1e"
      },
      "source": [
        "En primer lugar, crea una variable denominada `planets`. Agrega los ocho planetas (sin Plutón) a la lista. A continuación, muestra el número de planetas."
      ]
    },
    {
      "cell_type": "code",
      "execution_count": null,
      "metadata": {
        "id": "NEu3sRi7-o1f"
      },
      "outputs": [],
      "source": [
        "# Creamos la lista planets y la mostramos\n",
        "planets = ['Mercurio', 'Venus', 'Tierra', 'Marte', 'Júpiter', 'Saturno', 'Urano', 'Neptuno']"
      ]
    },
    {
      "cell_type": "markdown",
      "metadata": {
        "id": "bqx5vCLJ-o1f"
      },
      "source": [
        "Agrega a Plutón a la lista que creaste. Luego muestra tanto el número de planetas como el último planeta de la lista."
      ]
    },
    {
      "cell_type": "code",
      "execution_count": null,
      "metadata": {
        "id": "NXYyv_yb-o1g",
        "colab": {
          "base_uri": "https://localhost:8080/"
        },
        "outputId": "c73f9cbd-067d-4238-d828-80535f92ff03"
      },
      "outputs": [
        {
          "output_type": "stream",
          "name": "stdout",
          "text": [
            "El número de planetas es 9 , y el último es Plutón\n"
          ]
        }
      ],
      "source": [
        "# Agregamos a plutón y mostramos el último elemento\n",
        "planets.append(\"Plutón\")\n",
        "print(\"El número de planetas es\", len(planets), \", y el último es\", planets[8])"
      ]
    },
    {
      "cell_type": "markdown",
      "metadata": {
        "id": "pDdZwb15-o1g"
      },
      "source": [
        "> Recuerda: Lo importante es intentarlo, puedes auxiliarte de internet, libros, etc. El objetivo de una kata es la comprobación de la comprensión de la lección y su aplicación inmediata a la resolución de problemas. Go for it!"
      ]
    },
    {
      "cell_type": "markdown",
      "metadata": {
        "id": "ajeM9O1T-o1g"
      },
      "source": [
        "## Ejercicio 2: Trabajando con datos de una lista\n",
        "\n",
        "### Usar slices para recuperar partes de una lista"
      ]
    },
    {
      "cell_type": "markdown",
      "metadata": {
        "id": "XHIfh602-o1h"
      },
      "source": [
        "Es posible que debas trabajar con diferentes secciones de una lista. En nuestro ejemplo, queremos mostrar planetas más cerca y más lejos del sol de un planeta que el usuario ingresa por teclado.\n",
        "\n",
        "Comienza agregando el código para crear una lista con los planetas."
      ]
    },
    {
      "cell_type": "code",
      "execution_count": 26,
      "metadata": {
        "id": "t5LC2IPE-o1h"
      },
      "outputs": [],
      "source": [
        "# Lista de planetas\n",
        "planets = ['Mercurio', 'Venus', 'Tierra', 'Marte', 'Júpiter', 'Saturno', 'Urano', 'Neptuno']"
      ]
    },
    {
      "cell_type": "markdown",
      "metadata": {
        "id": "p5TvfJI7-o1i"
      },
      "source": [
        "### Solicita al usuario el nombre de un planeta\n",
        "\n",
        "A continuación, agrega el código para solicitar al usuario un nombre. Debido a que las cadenas distinguen entre mayúsculas y minúsculas en Python, pídale al usuario que use una letra mayúscula para comenzar el nombre del planeta."
      ]
    },
    {
      "cell_type": "code",
      "execution_count": 29,
      "metadata": {
        "id": "bQqIqImn-o1i",
        "colab": {
          "base_uri": "https://localhost:8080/"
        },
        "outputId": "ecf26296-725d-457e-f43c-67e44fa7eada"
      },
      "outputs": [
        {
          "name": "stdout",
          "output_type": "stream",
          "text": [
            "Por favor, ingrese el nombre de un planeta, iniciando con letra mayúscula. Mercurio\n"
          ]
        }
      ],
      "source": [
        "# Solicitamos el nombre de un planeta *Pista:  input()*\n",
        "soliplan=input(\"Por favor, ingrese el nombre de un planeta, iniciando con letra mayúscula. \")"
      ]
    },
    {
      "cell_type": "markdown",
      "metadata": {
        "id": "yAPiUJ2i-o1i"
      },
      "source": [
        "### Encuentra el planeta en la lista\n",
        "Para determinar qué planetas están más cerca que el que ingresó el usuario, debes encontrar dónde está el planeta en la lista. Puedes utilizar `index` para realizar esta operación. Agrega el código para encontrar el índice del planeta."
      ]
    },
    {
      "cell_type": "code",
      "execution_count": 30,
      "metadata": {
        "id": "n3tlTchB-o1i",
        "colab": {
          "base_uri": "https://localhost:8080/"
        },
        "outputId": "628d6d01-41d7-4b3b-a800-4f13155839e3"
      },
      "outputs": [
        {
          "output_type": "stream",
          "name": "stdout",
          "text": [
            "Mercurio está en la posición 0 de la lista.\n"
          ]
        }
      ],
      "source": [
        "# Busca el planeta en la lista\n",
        "print(soliplan, \"está en la posición\", planets.index(soliplan), \"de la lista.\")"
      ]
    },
    {
      "cell_type": "markdown",
      "metadata": {
        "id": "MEL5P6wU-o1j"
      },
      "source": [
        "### Mostrar planetas más cercanos al sol que el que el usuario ingresó\n",
        "\n",
        "Con el índice determinado, ahora puedes agregar el código para mostrar los planetas más cercanos al sol."
      ]
    },
    {
      "cell_type": "code",
      "execution_count": 32,
      "metadata": {
        "id": "MLFtfpu8-o1j",
        "colab": {
          "base_uri": "https://localhost:8080/"
        },
        "outputId": "698340f6-42a3-413a-e5cb-61369e41ddde"
      },
      "outputs": [
        {
          "output_type": "stream",
          "name": "stdout",
          "text": [
            "['Mercurio', 'Venus', 'Tierra', 'Marte']\n"
          ]
        }
      ],
      "source": [
        "# Muestra los planetas más cercanos al sol\n",
        "planetas_más_cercanos_al_sol = planets[0:4]\n",
        "print(planetas_más_cercanos_al_sol)"
      ]
    },
    {
      "cell_type": "markdown",
      "metadata": {
        "id": "jQslJ5lv-o1j"
      },
      "source": [
        "# Mostrar planetas más alejados del sol que el que el usuario ingresó\n",
        "\n",
        "Puedes usar el mismo índice para mostrar planetas más alejados del sol. Sin embargo, recuerda que el índice inicial se incluye cuando usas un slice. Como resultado, tendrás que agregar 1 al valor. Agrega el código para mostrar los planetas más alejados del sol."
      ]
    },
    {
      "cell_type": "code",
      "execution_count": 35,
      "metadata": {
        "id": "YDJTf1tK-o1j",
        "colab": {
          "base_uri": "https://localhost:8080/"
        },
        "outputId": "f643dbb7-c621-4c45-9dfe-53a109f13c5c"
      },
      "outputs": [
        {
          "output_type": "stream",
          "name": "stdout",
          "text": [
            "['Júpiter', 'Saturno', 'Urano', 'Neptuno']\n"
          ]
        }
      ],
      "source": [
        "# Muestra los planetas más lejanos al sol\n",
        "planetas_más_lejanos_al_sol = planets[4:8]\n",
        "print(planetas_más_lejanos_al_sol)"
      ]
    }
  ],
  "metadata": {
    "interpreter": {
      "hash": "b8bdd4e700647ba2b08c59e5df8b7da1dcf50a218bcd4c1bcd9b3dc92e8788e5"
    },
    "kernelspec": {
      "display_name": "Python 3.9.1 64-bit",
      "name": "python3"
    },
    "language_info": {
      "codemirror_mode": {
        "name": "ipython",
        "version": 3
      },
      "file_extension": ".py",
      "mimetype": "text/x-python",
      "name": "python",
      "nbconvert_exporter": "python",
      "pygments_lexer": "ipython3",
      "version": "3.9.5"
    },
    "nteract": {
      "version": "nteract-front-end@1.0.0"
    },
    "colab": {
      "provenance": [],
      "collapsed_sections": []
    }
  },
  "nbformat": 4,
  "nbformat_minor": 0
}